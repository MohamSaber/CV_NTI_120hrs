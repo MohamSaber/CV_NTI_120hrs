{
 "cells": [
  {
   "cell_type": "code",
   "execution_count": 1,
   "id": "fca0a291-6213-4efa-b25a-44db35c64918",
   "metadata": {},
   "outputs": [],
   "source": [
    "from sklearn import datasets\n",
    "import numpy as np\n",
    "\n",
    "iris = datasets.load_iris()\n",
    "X = iris.data  \n",
    "y = iris.target \n"
   ]
  },
  {
   "cell_type": "code",
   "execution_count": 2,
   "id": "a56d8e0c-ef2d-4c8d-ad8a-8cfeaaa1cdf0",
   "metadata": {},
   "outputs": [],
   "source": [
    "from sklearn.preprocessing import OneHotEncoder\n",
    "\n",
    "encoder = OneHotEncoder(sparse_output=False)\n",
    "y_onehot = encoder.fit_transform(y.reshape(-1, 1))\n"
   ]
  },
  {
   "cell_type": "code",
   "execution_count": 3,
   "id": "3b8f2a1e-7d84-43ee-9ccf-bb2924d784e7",
   "metadata": {},
   "outputs": [],
   "source": [
    "np.random.seed(42)\n",
    "n_inputs = X.shape[1]    # 4 features\n",
    "n_outputs = y_onehot.shape[1]  # 3 classes\n",
    "\n",
    "W = np.random.randn(n_inputs, n_outputs) * 0.01\n",
    "b = np.zeros((1, n_outputs))\n"
   ]
  },
  {
   "cell_type": "code",
   "execution_count": 4,
   "id": "1975cfb1-2d99-41c4-9daf-85fe7cb0ecca",
   "metadata": {},
   "outputs": [],
   "source": [
    "def softmax(z):\n",
    "    exp_z = np.exp(z - np.max(z, axis=1, keepdims=True))\n",
    "    return exp_z / np.sum(exp_z, axis=1, keepdims=True)\n",
    "\n",
    "def cross_entropy(y_true, y_pred):\n",
    "    m = y_true.shape[0]\n",
    "    loss = -np.sum(y_true * np.log(y_pred + 1e-8)) / m\n",
    "    return loss\n"
   ]
  },
  {
   "cell_type": "code",
   "execution_count": 5,
   "id": "3f55f7ac-96dc-489b-bd6f-8ee8ffce262f",
   "metadata": {},
   "outputs": [],
   "source": [
    "def forward(X, W, b):\n",
    "    z = np.dot(X, W) + b\n",
    "    y_pred = softmax(z)\n",
    "    return y_pred\n"
   ]
  },
  {
   "cell_type": "code",
   "execution_count": 6,
   "id": "9a863792-3e0f-4ced-a1ac-017f6d598fd0",
   "metadata": {},
   "outputs": [],
   "source": [
    "def backward(X, y_true, y_pred):\n",
    "    m = X.shape[0]\n",
    "    dz = (y_pred - y_true) / m\n",
    "    dW = np.dot(X.T, dz)\n",
    "    db = np.sum(dz, axis=0, keepdims=True)\n",
    "    return dW, db\n"
   ]
  },
  {
   "cell_type": "code",
   "execution_count": 7,
   "id": "10d374d6-eabc-4f3b-81b0-9cb6287159cf",
   "metadata": {},
   "outputs": [
    {
     "name": "stdout",
     "output_type": "stream",
     "text": [
      "Epoch 0, Loss: 1.1152\n",
      "Epoch 100, Loss: 0.4424\n",
      "Epoch 200, Loss: 0.2621\n",
      "Epoch 300, Loss: 0.2188\n",
      "Epoch 400, Loss: 0.1914\n",
      "Epoch 500, Loss: 0.1724\n",
      "Epoch 600, Loss: 0.1583\n",
      "Epoch 700, Loss: 0.1475\n",
      "Epoch 800, Loss: 0.1388\n",
      "Epoch 900, Loss: 0.1318\n"
     ]
    }
   ],
   "source": [
    "learning_rate = 0.1\n",
    "for epoch in range(1000):\n",
    "    # Forward\n",
    "    y_pred = forward(X, W, b)\n",
    "    \n",
    "    # Loss\n",
    "    loss = cross_entropy(y_onehot, y_pred)\n",
    "    \n",
    "    # Backward\n",
    "    dW, db = backward(X, y_onehot, y_pred)\n",
    "    \n",
    "    # Update\n",
    "    W -= learning_rate * dW\n",
    "    b -= learning_rate * db\n",
    "    \n",
    "    if epoch % 100 == 0:\n",
    "        print(f\"Epoch {epoch}, Loss: {loss:.4f}\")\n"
   ]
  },
  {
   "cell_type": "code",
   "execution_count": 8,
   "id": "d7d55502-3b8a-470d-a734-537af62b600c",
   "metadata": {},
   "outputs": [
    {
     "name": "stdout",
     "output_type": "stream",
     "text": [
      "Accuracy: 98.67%\n"
     ]
    }
   ],
   "source": [
    "pred_classes = np.argmax(y_pred, axis=1)\n",
    "accuracy = np.mean(pred_classes == y)\n",
    "print(f\"Accuracy: {accuracy*100:.2f}%\")\n"
   ]
  },
  {
   "cell_type": "code",
   "execution_count": null,
   "id": "88274bc0-7001-4af6-bdd6-bb230b7a1c9c",
   "metadata": {},
   "outputs": [],
   "source": []
  }
 ],
 "metadata": {
  "kernelspec": {
   "display_name": "Python 3 (ipykernel)",
   "language": "python",
   "name": "python3"
  },
  "language_info": {
   "codemirror_mode": {
    "name": "ipython",
    "version": 3
   },
   "file_extension": ".py",
   "mimetype": "text/x-python",
   "name": "python",
   "nbconvert_exporter": "python",
   "pygments_lexer": "ipython3",
   "version": "3.13.5"
  }
 },
 "nbformat": 4,
 "nbformat_minor": 5
}
